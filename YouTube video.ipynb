{
 "cells": [
  {
   "cell_type": "code",
   "execution_count": 2,
   "id": "46ab7e5e",
   "metadata": {},
   "outputs": [],
   "source": [
    "from pytube import YouTube"
   ]
  },
  {
   "cell_type": "code",
   "execution_count": 3,
   "id": "ee096961",
   "metadata": {},
   "outputs": [],
   "source": [
    "url = \"https://www.youtube.com/watch?v=niVMze3HAyY\"  #Enter the url of the video you want to download"
   ]
  },
  {
   "cell_type": "code",
   "execution_count": 4,
   "id": "97891f59",
   "metadata": {},
   "outputs": [],
   "source": [
    "video = YouTube(url)"
   ]
  },
  {
   "cell_type": "code",
   "execution_count": 5,
   "id": "263088e6",
   "metadata": {},
   "outputs": [
    {
     "name": "stdout",
     "output_type": "stream",
     "text": [
      "Ram Siya Ram (Audio) Adipurush | Prabhas | Sachet-Parampara, Manoj Muntashir S | Om Raut | Bhushan K\n"
     ]
    }
   ],
   "source": [
    "print(video.title)   #prints the title of the youtube video"
   ]
  },
  {
   "cell_type": "code",
   "execution_count": 7,
   "id": "1e2c2a25",
   "metadata": {},
   "outputs": [
    {
     "name": "stdout",
     "output_type": "stream",
     "text": [
      "https://i.ytimg.com/vi/niVMze3HAyY/hq720.jpg?sqp=-oaymwEXCNUGEOADIAQqCwjVARCqCBh4INgESFo&rs=AOn4CLDkDPWYb78zX6noRbBugr8oItyPKA\n"
     ]
    }
   ],
   "source": [
    "print(video.thumbnail_url)    #prints the link of the youtube thumbnail image"
   ]
  },
  {
   "cell_type": "code",
   "execution_count": 8,
   "id": "2763bf5f",
   "metadata": {},
   "outputs": [
    {
     "name": "stdout",
     "output_type": "stream",
     "text": [
      "4372488\n"
     ]
    }
   ],
   "source": [
    "print(video.views)"
   ]
  },
  {
   "cell_type": "code",
   "execution_count": 9,
   "id": "b06b0f21",
   "metadata": {},
   "outputs": [
    {
     "name": "stdout",
     "output_type": "stream",
     "text": [
      "None\n"
     ]
    }
   ],
   "source": [
    "print(video.description)"
   ]
  },
  {
   "cell_type": "code",
   "execution_count": 10,
   "id": "a674a6c3",
   "metadata": {},
   "outputs": [],
   "source": [
    "video = video.streams.get_highest_resolution()"
   ]
  },
  {
   "cell_type": "code",
   "execution_count": 11,
   "id": "743802f4",
   "metadata": {},
   "outputs": [
    {
     "data": {
      "text/plain": [
       "'C:\\\\Users\\\\Subhash Gupta\\\\Ram Siya Ram (Audio) Adipurush  Prabhas  Sachet-Parampara Manoj Muntashir S  Om Raut  Bhushan K.mp4'"
      ]
     },
     "execution_count": 11,
     "metadata": {},
     "output_type": "execute_result"
    }
   ],
   "source": [
    "video.download()      #downloads the video in your current directory"
   ]
  },
  {
   "cell_type": "code",
   "execution_count": null,
   "id": "ab070a84",
   "metadata": {},
   "outputs": [],
   "source": []
  }
 ],
 "metadata": {
  "kernelspec": {
   "display_name": "Python 3 (ipykernel)",
   "language": "python",
   "name": "python3"
  },
  "language_info": {
   "codemirror_mode": {
    "name": "ipython",
    "version": 3
   },
   "file_extension": ".py",
   "mimetype": "text/x-python",
   "name": "python",
   "nbconvert_exporter": "python",
   "pygments_lexer": "ipython3",
   "version": "3.8.8"
  }
 },
 "nbformat": 4,
 "nbformat_minor": 5
}
